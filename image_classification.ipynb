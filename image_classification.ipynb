{
 "cells": [
  {
   "cell_type": "markdown",
   "metadata": {
    "collapsed": true
   },
   "source": [
    "# Image Classification\n",
    "In this project, you'll classify images from the [CIFAR-10 dataset](https://www.cs.toronto.edu/~kriz/cifar.html).  The dataset consists of airplanes, dogs, cats, and other objects. You'll preprocess the images, then train a convolutional neural network on all the samples. The images need to be normalized and the labels need to be one-hot encoded.  You'll get to apply what you learned and build a convolutional, max pooling, dropout, and fully connected layers.  At the end, you'll get to see your neural network's predictions on the sample images.\n",
    "## Get the Data\n",
    "Run the following cell to download the [CIFAR-10 dataset for python](https://www.cs.toronto.edu/~kriz/cifar-10-python.tar.gz)."
   ]
  },
  {
   "cell_type": "code",
   "execution_count": 14,
   "metadata": {},
   "outputs": [
    {
     "name": "stdout",
     "output_type": "stream",
     "text": [
      "All files found!\n"
     ]
    }
   ],
   "source": [
    "\"\"\"\n",
    "DON'T MODIFY ANYTHING IN THIS CELL THAT IS BELOW THIS LINE\n",
    "\"\"\"\n",
    "from urllib.request import urlretrieve\n",
    "from os.path import isfile, isdir\n",
    "from tqdm import tqdm\n",
    "import problem_unittests as tests\n",
    "import tarfile\n",
    "\n",
    "cifar10_dataset_folder_path = 'cifar-10-batches-py'\n",
    "\n",
    "class DLProgress(tqdm):\n",
    "    last_block = 0\n",
    "\n",
    "    def hook(self, block_num=1, block_size=1, total_size=None):\n",
    "        self.total = total_size\n",
    "        self.update((block_num - self.last_block) * block_size)\n",
    "        self.last_block = block_num\n",
    "\n",
    "if not isfile('cifar-10-python.tar.gz'):\n",
    "    with DLProgress(unit='B', unit_scale=True, miniters=1, desc='CIFAR-10 Dataset') as pbar:\n",
    "        urlretrieve(\n",
    "            'https://www.cs.toronto.edu/~kriz/cifar-10-python.tar.gz',\n",
    "            'cifar-10-python.tar.gz',\n",
    "            pbar.hook)\n",
    "\n",
    "if not isdir(cifar10_dataset_folder_path):\n",
    "    with tarfile.open('cifar-10-python.tar.gz') as tar:\n",
    "        tar.extractall()\n",
    "        tar.close()\n",
    "\n",
    "\n",
    "tests.test_folder_path(cifar10_dataset_folder_path)"
   ]
  },
  {
   "cell_type": "markdown",
   "metadata": {},
   "source": [
    "## Explore the Data\n",
    "The dataset is broken into batches to prevent your machine from running out of memory.  The CIFAR-10 dataset consists of 5 batches, named `data_batch_1`, `data_batch_2`, etc.. Each batch contains the labels and images that are one of the following:\n",
    "* airplane\n",
    "* automobile\n",
    "* bird\n",
    "* cat\n",
    "* deer\n",
    "* dog\n",
    "* frog\n",
    "* horse\n",
    "* ship\n",
    "* truck\n",
    "\n",
    "Understanding a dataset is part of making predictions on the data.  Play around with the code cell below by changing the `batch_id` and `sample_id`. The `batch_id` is the id for a batch (1-5). The `sample_id` is the id for a image and label pair in the batch.\n",
    "\n",
    "Ask yourself \"What are all possible labels?\", \"What is the range of values for the image data?\", \"Are the labels in order or random?\".  Answers to questions like these will help you preprocess the data and end up with better predictions."
   ]
  },
  {
   "cell_type": "code",
   "execution_count": 39,
   "metadata": {},
   "outputs": [
    {
     "name": "stdout",
     "output_type": "stream",
     "text": [
      "\n",
      "Stats of batch 1:\n",
      "Samples: 10000\n",
      "Label Counts: {0: 1005, 1: 974, 2: 1032, 3: 1016, 4: 999, 5: 937, 6: 1030, 7: 1001, 8: 1025, 9: 981}\n",
      "First 20 Labels: [6, 9, 9, 4, 1, 1, 2, 7, 8, 3, 4, 7, 7, 2, 9, 9, 9, 3, 2, 6]\n",
      "\n",
      "Example of Image 8:\n",
      "Image - Min Value: 8 Max Value: 252\n",
      "Image - Shape: (32, 32, 3)\n",
      "Label - Label Id: 8 Name: ship\n"
     ]
    },
    {
     "data": {
      "image/png": "[encoded data removed]",
      "text/plain": [
       "<matplotlib.figure.Figure at 0x10f7db048>"
      ]
     },
     "metadata": {
      "image/png": {
       "height": 250,
       "width": 253
      }
     },
     "output_type": "display_data"
    }
   ],
   "source": [
    "%matplotlib inline\n",
    "%config InlineBackend.figure_format = 'retina'\n",
    "\n",
    "import helper\n",
    "import numpy as np\n",
    "from sklearn.preprocessing import LabelBinarizer\n",
    "\n",
    "# Explore the dataset\n",
    "batch_id = 1\n",
    "sample_id = 8\n",
    "helper.display_stats(cifar10_dataset_folder_path, batch_id, sample_id)\n"
   ]
  },
  {
   "cell_type": "markdown",
   "metadata": {},
   "source": [
    "## Implement Preprocess Functions\n",
    "### Normalize\n",
    "In the cell below, implement the `normalize` function to take in image data, `x`, and return it as a normalized Numpy array. The values should be in the range of 0 to 1, inclusive.  The return object should be the same shape as `x`."
   ]
  },
  {
   "cell_type": "code",
   "execution_count": 30,
   "metadata": {},
   "outputs": [
    {
     "name": "stdout",
     "output_type": "stream",
     "text": [
      "(454, 32, 32, 3)\n",
      "(454, 1, 1, 3)\n",
      "(454, 1, 1, 3)\n",
      "(454, 32, 32, 3)\n",
      "(454, 1, 1, 3)\n",
      "<class 'numpy.ndarray'>\n",
      "Tests Passed\n"
     ]
    }
   ],
   "source": [
    "def normalize(x):\n",
    "    \"\"\"\n",
    "    Normalize a list of sample image data in the range of 0 to 1\n",
    "    : x: List of image data.  The image shape is (32, 32, 3)\n",
    "    : return: Numpy array of normalize data\n",
    "    \"\"\"\n",
    "    # TODO: Implement Function\n",
    "    \n",
    "    print (x.shape)\n",
    "    np.asarray(x)\n",
    "    x_min = x.min(axis=(1,2), keepdims=True)\n",
    "    print (x_min.shape)\n",
    "    x_max = x.max(axis=(1,2), keepdims=True)\n",
    "    print (x_max.shape)\n",
    "    a = x-x_min\n",
    "    print (a.shape)\n",
    "    b = x_max - x_min\n",
    "    print (b.shape) \n",
    "    x = np.divide(a,b)\n",
    "    print (type(x))\n",
    "    return x\n",
    "\n",
    "\n",
    "\"\"\"\n",
    "DON'T MODIFY ANYTHING IN THIS CELL THAT IS BELOW THIS LINE\n",
    "\"\"\"\n",
    "tests.test_normalize(normalize)"
   ]
  },
  {
   "cell_type": "markdown",
   "metadata": {},
   "source": [
    "### One-hot encode\n",
    "Just like the previous code cell, you'll be implementing a function for preprocessing.  This time, you'll implement the `one_hot_encode` function. The input, `x`, are a list of labels.  Implement the function to return the list of labels as One-Hot encoded Numpy array.  The possible values for labels are 0 to 9. The one-hot encoding function should return the same encoding for each value between each call to `one_hot_encode`.  Make sure to save the map of encodings outside the function.\n",
    "\n",
    "**Hint:**\n",
    "\n",
    "Look into LabelBinarizer in the preprocessing module of sklearn."
   ]
  },
  {
   "cell_type": "code",
   "execution_count": 46,
   "metadata": {},
   "outputs": [
    {
     "name": "stdout",
     "output_type": "stream",
     "text": [
      "Tests Passed\n"
     ]
    }
   ],
   "source": [
    "\n",
    "\n",
    "encoding_map = range(10)\n",
    "\n",
    "def one_hot_encode(x):\n",
    "    \n",
    "    \"\"\"\n",
    "    One hot encode a list of sample labels. Return a one-hot encoded vector for each label.\n",
    "    : x: List of sample Labels\n",
    "    : return: Numpy array of one-hot encoded labels\n",
    "    \"\"\"\n",
    "    # TODO: Implement Function\n",
    "    \n",
    "    #print(x)\n",
    "    \n",
    "    from sklearn.preprocessing import LabelBinarizer\n",
    "    lb = LabelBinarizer()\n",
    "    \n",
    "    lb.fit(encoding_map)\n",
    "    \n",
    "    return lb.transform(x)\n",
    "\n",
    "\n",
    "\"\"\"\n",
    "DON'T MODIFY ANYTHING IN THIS CELL THAT IS BELOW THIS LINE\n",
    "\"\"\"\n",
    "tests.test_one_hot_encode(one_hot_encode)"
   ]
  },
  {
   "cell_type": "markdown",
   "metadata": {},
   "source": [
    "### Randomize Data\n",
    "As you saw from exploring the data above, the order of the samples are randomized.  It doesn't hurt to randomize it again, but you don't need to for this dataset."
   ]
  },
  {
   "cell_type": "markdown",
   "metadata": {},
   "source": [
    "## Preprocess all the data and save it\n",
    "Running the code cell below will preprocess all the CIFAR-10 data and save it to file. The code below also uses 10% of the training data for validation."
   ]
  },
  {
   "cell_type": "code",
   "execution_count": 47,
   "metadata": {},
   "outputs": [
    {
     "name": "stdout",
     "output_type": "stream",
     "text": [
      "(9000, 32, 32, 3)\n",
      "(9000, 1, 1, 3)\n",
      "(9000, 1, 1, 3)\n",
      "(9000, 32, 32, 3)\n",
      "(9000, 1, 1, 3)\n",
      "<class 'numpy.ndarray'>\n",
      "(9000, 32, 32, 3)\n",
      "(9000, 1, 1, 3)\n",
      "(9000, 1, 1, 3)\n",
      "(9000, 32, 32, 3)\n",
      "(9000, 1, 1, 3)\n",
      "<class 'numpy.ndarray'>\n",
      "(9000, 32, 32, 3)\n",
      "(9000, 1, 1, 3)\n",
      "(9000, 1, 1, 3)\n",
      "(9000, 32, 32, 3)\n",
      "(9000, 1, 1, 3)\n",
      "<class 'numpy.ndarray'>\n",
      "(9000, 32, 32, 3)\n",
      "(9000, 1, 1, 3)\n",
      "(9000, 1, 1, 3)\n",
      "(9000, 32, 32, 3)\n",
      "(9000, 1, 1, 3)\n",
      "<class 'numpy.ndarray'>\n",
      "(9000, 32, 32, 3)\n",
      "(9000, 1, 1, 3)\n",
      "(9000, 1, 1, 3)\n",
      "(9000, 32, 32, 3)\n",
      "(9000, 1, 1, 3)\n",
      "<class 'numpy.ndarray'>\n",
      "(5000, 32, 32, 3)\n",
      "(5000, 1, 1, 3)\n",
      "(5000, 1, 1, 3)\n",
      "(5000, 32, 32, 3)\n",
      "(5000, 1, 1, 3)\n",
      "<class 'numpy.ndarray'>\n",
      "(10000, 32, 32, 3)\n",
      "(10000, 1, 1, 3)\n",
      "(10000, 1, 1, 3)\n",
      "(10000, 32, 32, 3)\n",
      "(10000, 1, 1, 3)\n",
      "<class 'numpy.ndarray'>\n"
     ]
    }
   ],
   "source": [
    "\"\"\"\n",
    "DON'T MODIFY ANYTHING IN THIS CELL\n",
    "\"\"\"\n",
    "# Preprocess Training, Validation, and Testing Data\n",
    "helper.preprocess_and_save_data(cifar10_dataset_folder_path, normalize, one_hot_encode)"
   ]
  },
  {
   "cell_type": "markdown",
   "metadata": {},
   "source": [
    "# Check Point\n",
    "This is your first checkpoint.  If you ever decide to come back to this notebook or have to restart the notebook, you can start from here.  The preprocessed data has been saved to disk."
   ]
  },
  {
   "cell_type": "code",
   "execution_count": 3,
   "metadata": {
    "collapsed": true
   },
   "outputs": [],
   "source": [
    "\"\"\"\n",
    "DON'T MODIFY ANYTHING IN THIS CELL\n",
    "\"\"\"\n",
    "import pickle\n",
    "import problem_unittests as tests\n",
    "import helper\n",
    "\n",
    "# Load the Preprocessed Validation data\n",
    "valid_features, valid_labels = pickle.load(open('preprocess_validation.p', mode='rb'))"
   ]
  },
  {
   "cell_type": "markdown",
   "metadata": {},
   "source": [
    "## Build the network\n",
    "For the neural network, you'll build each layer into a function.  Most of the code you've seen has been outside of functions. To test your code more thoroughly, we require that you put each layer in a function.  This allows us to give you better feedback and test for simple mistakes using our unittests before you submit your project.\n",
    "\n",
    ">**Note:** If you're finding it hard to dedicate enough time for this course each week, we've provided a small shortcut to this part of the project. In the next couple of problems, you'll have the option to use classes from the [TensorFlow Layers](https://www.tensorflow.org/api_docs/python/tf/layers) or [TensorFlow Layers (contrib)](https://www.tensorflow.org/api_guides/python/contrib.layers) packages to build each layer, except the layers you build in the \"Convolutional and Max Pooling Layer\" section.  TF Layers is similar to Keras's and TFLearn's abstraction to layers, so it's easy to pickup.\n",
    "\n",
    ">However, if you would like to get the most out of this course, try to solve all the problems _without_ using anything from the TF Layers packages. You **can** still use classes from other packages that happen to have the same name as ones you find in TF Layers! For example, instead of using the TF Layers version of the `conv2d` class, [tf.layers.conv2d](https://www.tensorflow.org/api_docs/python/tf/layers/conv2d), you would want to use the TF Neural Network version of `conv2d`, [tf.nn.conv2d](https://www.tensorflow.org/api_docs/python/tf/nn/conv2d). \n",
    "\n",
    "Let's begin!\n",
    "\n",
    "### Input\n",
    "The neural network needs to read the image data, one-hot encoded labels, and dropout keep probability. Implement the following functions\n",
    "* Implement `neural_net_image_input`\n",
    " * Return a [TF Placeholder](https://www.tensorflow.org/api_docs/python/tf/placeholder)\n",
    " * Set the shape using `image_shape` with batch size set to `None`.\n",
    " * Name the TensorFlow placeholder \"x\" using the TensorFlow `name` parameter in the [TF Placeholder](https://www.tensorflow.org/api_docs/python/tf/placeholder).\n",
    "* Implement `neural_net_label_input`\n",
    " * Return a [TF Placeholder](https://www.tensorflow.org/api_docs/python/tf/placeholder)\n",
    " * Set the shape using `n_classes` with batch size set to `None`.\n",
    " * Name the TensorFlow placeholder \"y\" using the TensorFlow `name` parameter in the [TF Placeholder](https://www.tensorflow.org/api_docs/python/tf/placeholder).\n",
    "* Implement `neural_net_keep_prob_input`\n",
    " * Return a [TF Placeholder](https://www.tensorflow.org/api_docs/python/tf/placeholder) for dropout keep probability.\n",
    " * Name the TensorFlow placeholder \"keep_prob\" using the TensorFlow `name` parameter in the [TF Placeholder](https://www.tensorflow.org/api_docs/python/tf/placeholder).\n",
    "\n",
    "These names will be used at the end of the project to load your saved model.\n",
    "\n",
    "Note: `None` for shapes in TensorFlow allow for a dynamic size."
   ]
  },
  {
   "cell_type": "code",
   "execution_count": 4,
   "metadata": {},
   "outputs": [
    {
     "name": "stdout",
     "output_type": "stream",
     "text": [
      "(32, 32, 3)\n",
      "Image Input Tests Passed.\n",
      "Label Input Tests Passed.\n",
      "Keep Prob Tests Passed.\n"
     ]
    }
   ],
   "source": [
    "import tensorflow as tf\n",
    "\n",
    "def neural_net_image_input(image_shape):\n",
    "    \"\"\"\n",
    "    Return a Tensor for a batch of image input\n",
    "    : image_shape: Shape of the images\n",
    "    : return: Tensor for image input.\n",
    "    \"\"\"\n",
    "    # TODO: Implement Function\n",
    "    #image_shape1 = [None, image_shape]\n",
    "    print (image_shape)\n",
    "\n",
    "    return tf.placeholder(tf.float32, shape=(None, image_shape[0], image_shape[1], image_shape[2]), name = \"x\")\n",
    "    #return tf.placeholder(tf.float32, shape=image_shape1, name = \"x\")\n",
    "\n",
    "\n",
    "def neural_net_label_input(n_classes):\n",
    "    \"\"\"\n",
    "    Return a Tensor for a batch of label input\n",
    "    : n_classes: Number of classes\n",
    "    : return: Tensor for label input.\n",
    "    \"\"\"\n",
    "    # TODO: Implement Function\n",
    "    return tf.placeholder(tf.float32, shape=(None, n_classes), name = \"y\")\n",
    "\n",
    "\n",
    "def neural_net_keep_prob_input():\n",
    "    \"\"\"\n",
    "    Return a Tensor for keep probability\n",
    "    : return: Tensor for keep probability.\n",
    "    \"\"\"\n",
    "    # TODO: Implement Function\n",
    "    return tf.placeholder(tf.float32, name = \"keep_prob\")\n",
    "\n",
    "\n",
    "\"\"\"\n",
    "DON'T MODIFY ANYTHING IN THIS CELL THAT IS BELOW THIS LINE\n",
    "\"\"\"\n",
    "tf.reset_default_graph()\n",
    "tests.test_nn_image_inputs(neural_net_image_input)\n",
    "tests.test_nn_label_inputs(neural_net_label_input)\n",
    "tests.test_nn_keep_prob_inputs(neural_net_keep_prob_input)"
   ]
  },
  {
   "cell_type": "markdown",
   "metadata": {},
   "source": [
    "### Convolution and Max Pooling Layer\n",
    "Convolution layers have a lot of success with images. For this code cell, you should implement the function `conv2d_maxpool` to apply convolution then max pooling:\n",
    "* Create the weight and bias using `conv_ksize`, `conv_num_outputs` and the shape of `x_tensor`.\n",
    "* Apply a convolution to `x_tensor` using weight and `conv_strides`.\n",
    " * We recommend you use same padding, but you're welcome to use any padding.\n",
    "* Add bias\n",
    "* Add a nonlinear activation to the convolution.\n",
    "* Apply Max Pooling using `pool_ksize` and `pool_strides`.\n",
    " * We recommend you use same padding, but you're welcome to use any padding.\n",
    "\n",
    "**Note:** You **can't** use [TensorFlow Layers](https://www.tensorflow.org/api_docs/python/tf/layers) or [TensorFlow Layers (contrib)](https://www.tensorflow.org/api_guides/python/contrib.layers) for **this** layer, but you can still use TensorFlow's [Neural Network](https://www.tensorflow.org/api_docs/python/tf/nn) package. You may still use the shortcut option for all the **other** layers.\n",
    "\n",
    "** Hint: **\n",
    "\n",
    "When unpacking values as an argument in Python, look into the [unpacking](https://docs.python.org/3/tutorial/controlflow.html#unpacking-argument-lists) operator. "
   ]
  },
  {
   "cell_type": "code",
   "execution_count": 45,
   "metadata": {},
   "outputs": [
    {
     "name": "stdout",
     "output_type": "stream",
     "text": [
      "Tests Passed\n"
     ]
    }
   ],
   "source": [
    "def conv2d_maxpool(x_tensor, conv_num_outputs, conv_ksize, conv_strides, pool_ksize, pool_strides):\n",
    "    \"\"\"\n",
    "    Apply convolution then max pooling to x_tensor\n",
    "    :param x_tensor: TensorFlow Tensor\n",
    "    :param conv_num_outputs: Number of outputs for the convolutional layer\n",
    "    :param conv_ksize: kernal size 2-D Tuple for the convolutional layer\n",
    "    :param conv_strides: Stride 2-D Tuple for convolution\n",
    "    :param pool_ksize: kernal size 2-D Tuple for pool\n",
    "    :param pool_strides: Stride 2-D Tuple for pool\n",
    "    : return: A tensor that represents convolution and max pooling of x_tensor\n",
    "    \"\"\"\n",
    "    # TODO: Implement Function\n",
    "    #Create the weight and bias using conv_ksize, conv_num_outputs and the shape of x_tensor.\n",
    "    #Apply a convolution to x_tensor using weight and conv_strides.\n",
    "    #We recommend you use same padding, but you're welcome to use any padding.\n",
    "    #Add bias\n",
    "    #Add a nonlinear activation to the convolution.\n",
    "    #Apply Max Pooling using pool_ksize and pool_strides.\n",
    "    \n",
    "    colorc = x_tensor.get_shape().as_list()[-1]\n",
    "    weights = tf.Variable(tf.truncated_normal([conv_ksize[0], conv_ksize[1], colorc, conv_num_outputs], stddev=0.1, mean=0 ))\n",
    "    bias = tf.Variable(tf.zeros(conv_num_outputs))\n",
    "    \n",
    "    conv_strides = [1, conv_strides[0], conv_strides[1], 1]\n",
    "    conv_layer = tf.nn.conv2d(x_tensor, weights, strides = conv_strides, padding = 'SAME')\n",
    "    conv_layer = tf.nn.bias_add(conv_layer, bias)\n",
    "    conv_layer = tf.nn.relu(conv_layer)\n",
    "    \n",
    "    ksize = [1, pool_ksize[0], pool_ksize[1], 1 ]\n",
    "    k_strides = [1, pool_strides[0], pool_strides[1], 1]\n",
    "    \n",
    "    conv_layer = tf.nn.max_pool(conv_layer, ksize, strides = k_strides, padding = 'SAME' )\n",
    "    return conv_layer\n",
    "\n",
    "\n",
    "\n",
    "\n",
    "\"\"\"\n",
    "DON'T MODIFY ANYTHING IN THIS CELL THAT IS BELOW THIS LINE\n",
    "\"\"\"\n",
    "tests.test_con_pool(conv2d_maxpool)"
   ]
  },
  {
   "cell_type": "markdown",
   "metadata": {},
   "source": [
    "### Flatten Layer\n",
    "Implement the `flatten` function to change the dimension of `x_tensor` from a 4-D tensor to a 2-D tensor.  The output should be the shape (*Batch Size*, *Flattened Image Size*). Shortcut option: you can use classes from the [TensorFlow Layers](https://www.tensorflow.org/api_docs/python/tf/layers) or [TensorFlow Layers (contrib)](https://www.tensorflow.org/api_guides/python/contrib.layers) packages for this layer. For more of a challenge, only use other TensorFlow packages."
   ]
  },
  {
   "cell_type": "code",
   "execution_count": 6,
   "metadata": {},
   "outputs": [
    {
     "name": "stdout",
     "output_type": "stream",
     "text": [
      "[None, 10, 30, 6]\n",
      "Tests Passed\n"
     ]
    }
   ],
   "source": [
    "def flatten(x_tensor):\n",
    "    \"\"\"\n",
    "    Flatten x_tensor to (Batch Size, Flattened Image Size)\n",
    "    : x_tensor: A tensor of size (Batch Size, ...), where ... are the image dimensions.\n",
    "    : return: A tensor of size (Batch Size, Flattened Image Size).\n",
    "    \"\"\"\n",
    "    # TODO: Implement Function\n",
    "    \n",
    "    \n",
    "    xshape = x_tensor.get_shape().as_list()\n",
    "    print (xshape)\n",
    "    newshape = xshape[1]*xshape[2]*xshape[3]\n",
    "    \n",
    "    xflat= tf.reshape(x_tensor, [-1, newshape])\n",
    "\n",
    "    return xflat\n",
    "\n",
    "\n",
    "\"\"\"\n",
    "DON'T MODIFY ANYTHING IN THIS CELL THAT IS BELOW THIS LINE\n",
    "\"\"\"\n",
    "tests.test_flatten(flatten)"
   ]
  },
  {
   "cell_type": "markdown",
   "metadata": {},
   "source": [
    "### Fully-Connected Layer\n",
    "Implement the `fully_conn` function to apply a fully connected layer to `x_tensor` with the shape (*Batch Size*, *num_outputs*). Shortcut option: you can use classes from the [TensorFlow Layers](https://www.tensorflow.org/api_docs/python/tf/layers) or [TensorFlow Layers (contrib)](https://www.tensorflow.org/api_guides/python/contrib.layers) packages for this layer. For more of a challenge, only use other TensorFlow packages."
   ]
  },
  {
   "cell_type": "code",
   "execution_count": 9,
   "metadata": {},
   "outputs": [
    {
     "name": "stdout",
     "output_type": "stream",
     "text": [
      "Tests Passed\n"
     ]
    }
   ],
   "source": [
    "def fully_conn(x_tensor, num_outputs):\n",
    "    \"\"\"\n",
    "    Apply a fully connected layer to x_tensor using weight and bias\n",
    "    : x_tensor: A 2-D tensor where the first dimension is batch size.\n",
    "    : num_outputs: The number of output that the new tensor should be.\n",
    "    : return: A 2-D tensor where the second dimension is num_outputs.\n",
    "    \"\"\"\n",
    "    # TODO: Implement Function\n",
    "    \n",
    "    fully_conn = tf.layers.dense(inputs=x_tensor, units=num_outputs, activation = tf.nn.relu)\n",
    "    \n",
    "    return fully_conn\n",
    "\n",
    "\n",
    "\"\"\"\n",
    "DON'T MODIFY ANYTHING IN THIS CELL THAT IS BELOW THIS LINE\n",
    "\"\"\"\n",
    "tests.test_fully_conn(fully_conn)"
   ]
  },
  {
   "cell_type": "markdown",
   "metadata": {},
   "source": [
    "### Output Layer\n",
    "Implement the `output` function to apply a fully connected layer to `x_tensor` with the shape (*Batch Size*, *num_outputs*). Shortcut option: you can use classes from the [TensorFlow Layers](https://www.tensorflow.org/api_docs/python/tf/layers) or [TensorFlow Layers (contrib)](https://www.tensorflow.org/api_guides/python/contrib.layers) packages for this layer. For more of a challenge, only use other TensorFlow packages.\n",
    "\n",
    "**Note:** Activation, softmax, or cross entropy should **not** be applied to this."
   ]
  },
  {
   "cell_type": "code",
   "execution_count": 43,
   "metadata": {},
   "outputs": [
    {
     "name": "stdout",
     "output_type": "stream",
     "text": [
      "Tests Passed\n"
     ]
    }
   ],
   "source": [
    "def output(x_tensor, num_outputs):\n",
    "    \"\"\"\n",
    "    Apply a output layer to x_tensor using weight and bias\n",
    "    : x_tensor: A 2-D tensor where the first dimension is batch size.\n",
    "    : num_outputs: The number of output that the new tensor should be.\n",
    "    : return: A 2-D tensor where the second dimension is num_outputs.\n",
    "    \"\"\"\n",
    "    # TODO: Implement Function\n",
    "    output_l = tf.layers.dense(inputs = x_tensor, units = num_outputs)\n",
    "    return output_l\n",
    "\n",
    "\n",
    "\"\"\"\n",
    "DON'T MODIFY ANYTHING IN THIS CELL THAT IS BELOW THIS LINE\n",
    "\"\"\"\n",
    "tests.test_output(output)"
   ]
  },
  {
   "cell_type": "markdown",
   "metadata": {},
   "source": [
    "### Create Convolutional Model\n",
    "Implement the function `conv_net` to create a convolutional neural network model. The function takes in a batch of images, `x`, and outputs logits.  Use the layers you created above to create this model:\n",
    "\n",
    "* Apply 1, 2, or 3 Convolution and Max Pool layers\n",
    "* Apply a Flatten Layer\n",
    "* Apply 1, 2, or 3 Fully Connected Layers\n",
    "* Apply an Output Layer\n",
    "* Return the output\n",
    "* Apply [TensorFlow's Dropout](https://www.tensorflow.org/api_docs/python/tf/nn/dropout) to one or more layers in the model using `keep_prob`. "
   ]
  },
  {
   "cell_type": "code",
   "execution_count": 52,
   "metadata": {},
   "outputs": [
    {
     "name": "stdout",
     "output_type": "stream",
     "text": [
      "(32, 32, 3)\n",
      "[None, 2, 2, 256]\n",
      "[None, 2, 2, 256]\n",
      "Neural Network Built!\n"
     ]
    }
   ],
   "source": [
    "def conv_net(x, keep_prob):\n",
    "    \"\"\"\n",
    "    Create a convolutional neural network model\n",
    "    : x: Placeholder tensor that holds image data.\n",
    "    : keep_prob: Placeholder tensor that hold dropout keep probability.\n",
    "    : return: Tensor that represents logits\n",
    "    \"\"\"\n",
    "    # TODO: Apply 1, 2, or 3 Convolution and Max Pool layers\n",
    "    #    Play around with different number of outputs, kernel size and stride\n",
    "    # Function Definition from Above:\n",
    "    #    conv2d_maxpool(x_tensor, conv_num_outputs, conv_ksize, conv_strides, pool_ksize, pool_strides)\n",
    "    \n",
    "    conv1 = conv2d_maxpool(x, conv_num_outputs = 32, conv_ksize = (5,5), conv_strides= (1,1), pool_ksize =(2,2), pool_strides=(2, 2) )\n",
    "    conv2 = conv2d_maxpool(conv1, conv_num_outputs = 64, conv_ksize = (3,3), conv_strides= (1,1), pool_ksize =(2,2), pool_strides=(2, 2) )\n",
    "    conv3 = conv2d_maxpool(conv2, conv_num_outputs = 128, conv_ksize = (3,3), conv_strides= (1,1), pool_ksize =(2,2), pool_strides=(2, 2) )\n",
    "    conv4 = conv2d_maxpool(conv3, conv_num_outputs = 256, conv_ksize = (3,3), conv_strides= (1,1), pool_ksize =(2,2), pool_strides=(2, 2) )\n",
    "   \n",
    "\n",
    "    # TODO: Apply a Flatten Layer\n",
    "    # Function Definition from Above:\n",
    "    #   flatten(x_tensor)\n",
    "    \n",
    "    flatx = flatten(conv4)\n",
    "    \n",
    "    # TODO: Apply 1, 2, or 3 Fully Connected Layers\n",
    "    #    Play around with different number of outputs\n",
    "    # Function Definition from Above:\n",
    "    #   fully_conn(x_tensor, num_outputs)\n",
    "    \n",
    "    dense1 = fully_conn(flatx, 1024)\n",
    "    dense1_drop = tf.nn.dropout(dense1, keep_prob)\n",
    "    dense2 = fully_conn(dense1_drop, 512)\n",
    "    dense2_drop = tf.nn.dropout(dense2, keep_prob)\n",
    "    \n",
    "    # TODO: Apply an Output Layer\n",
    "    #    Set this to the number of classes\n",
    "    # Function Definition from Above:\n",
    "    #   output(x_tensor, num_outputs)\n",
    "    \n",
    "    output_layer = output(dense2_drop, 10)\n",
    "    \n",
    "    \n",
    "    # TODO: return output\n",
    "    return output_layer\n",
    "\n",
    "\n",
    "\"\"\"\n",
    "DON'T MODIFY ANYTHING IN THIS CELL THAT IS BELOW THIS LINE\n",
    "\"\"\"\n",
    "\n",
    "##############################\n",
    "## Build the Neural Network ##\n",
    "##############################\n",
    "\n",
    "# Remove previous weights, bias, inputs, etc..\n",
    "tf.reset_default_graph()\n",
    "\n",
    "# Inputs\n",
    "x = neural_net_image_input((32, 32, 3))\n",
    "y = neural_net_label_input(10)\n",
    "keep_prob = neural_net_keep_prob_input()\n",
    "\n",
    "# Model\n",
    "logits = conv_net(x, keep_prob)\n",
    "\n",
    "# Name logits Tensor, so that is can be loaded from disk after training\n",
    "logits = tf.identity(logits, name='logits')\n",
    "\n",
    "# Loss and Optimizer\n",
    "cost = tf.reduce_mean(tf.nn.softmax_cross_entropy_with_logits(logits=logits, labels=y))\n",
    "optimizer = tf.train.AdamOptimizer().minimize(cost)\n",
    "\n",
    "# Accuracy\n",
    "correct_pred = tf.equal(tf.argmax(logits, 1), tf.argmax(y, 1))\n",
    "accuracy = tf.reduce_mean(tf.cast(correct_pred, tf.float32), name='accuracy')\n",
    "\n",
    "tests.test_conv_net(conv_net)"
   ]
  },
  {
   "cell_type": "markdown",
   "metadata": {},
   "source": [
    "## Train the Neural Network\n",
    "### Single Optimization\n",
    "Implement the function `train_neural_network` to do a single optimization.  The optimization should use `optimizer` to optimize in `session` with a `feed_dict` of the following:\n",
    "* `x` for image input\n",
    "* `y` for labels\n",
    "* `keep_prob` for keep probability for dropout\n",
    "\n",
    "This function will be called for each batch, so `tf.global_variables_initializer()` has already been called.\n",
    "\n",
    "Note: Nothing needs to be returned. This function is only optimizing the neural network."
   ]
  },
  {
   "cell_type": "code",
   "execution_count": 30,
   "metadata": {},
   "outputs": [
    {
     "name": "stdout",
     "output_type": "stream",
     "text": [
      "Tests Passed\n"
     ]
    }
   ],
   "source": [
    "def train_neural_network(session, optimizer, keep_probability, feature_batch, label_batch):\n",
    "    \"\"\"\n",
    "    Optimize the session on a batch of images and labels\n",
    "    : session: Current TensorFlow session\n",
    "    : optimizer: TensorFlow optimizer function\n",
    "    : keep_probability: keep probability\n",
    "    : feature_batch: Batch of Numpy image data\n",
    "    : label_batch: Batch of Numpy label data\n",
    "    \"\"\"\n",
    "    # TODO: Implement Function\n",
    "\n",
    "    session.run(optimizer, feed_dict={x: feature_batch, y: label_batch, keep_prob: keep_probability})    \n",
    "    pass\n",
    "\n",
    "\n",
    "# Launch the graph\n",
    "\n",
    "\n",
    "\"\"\"\n",
    "DON'T MODIFY ANYTHING IN THIS CELL THAT IS BELOW THIS LINE\n",
    "\"\"\"\n",
    "tests.test_train_nn(train_neural_network)"
   ]
  },
  {
   "cell_type": "markdown",
   "metadata": {},
   "source": [
    "### Show Stats\n",
    "Implement the function `print_stats` to print loss and validation accuracy.  Use the global variables `valid_features` and `valid_labels` to calculate validation accuracy.  Use a keep probability of `1.0` to calculate the loss and validation accuracy."
   ]
  },
  {
   "cell_type": "code",
   "execution_count": 34,
   "metadata": {},
   "outputs": [],
   "source": [
    "def print_stats(session, feature_batch, label_batch, cost, accuracy):\n",
    "    \"\"\"\n",
    "    Print information about loss and validation accuracy\n",
    "    : session: Current TensorFlow session\n",
    "    : feature_batch: Batch of Numpy image data\n",
    "    : label_batch: Batch of Numpy label data\n",
    "    : cost: TensorFlow cost function\n",
    "    : accuracy: TensorFlow accuracy function\n",
    "    \"\"\"\n",
    "    # TODO: Implement Function\n",
    "\n",
    "    loss = session.run(cost, feed_dict={x: feature_batch, y: label_batch, keep_prob: 1})\n",
    "    valid_acc = session.run(accuracy, feed_dict = {x: valid_features, y: valid_labels, keep_prob: 1})\n",
    "    print (\"Loss: \" ,loss)\n",
    "    print (\"Validation Accuracy: \" , valid_acc)\n",
    "    \n",
    "    pass\n",
    "\n",
    "\n"
   ]
  },
  {
   "cell_type": "markdown",
   "metadata": {},
   "source": [
    "### Hyperparameters\n",
    "Tune the following parameters:\n",
    "* Set `epochs` to the number of iterations until the network stops learning or start overfitting\n",
    "* Set `batch_size` to the highest number that your machine has memory for.  Most people set them to common sizes of memory:\n",
    " * 64\n",
    " * 128\n",
    " * 256\n",
    " * ...\n",
    "* Set `keep_probability` to the probability of keeping a node using dropout"
   ]
  },
  {
   "cell_type": "code",
   "execution_count": 54,
   "metadata": {
    "collapsed": true
   },
   "outputs": [],
   "source": [
    "# TODO: Tune Parameters\n",
    "epochs = 20\n",
    "batch_size = 512\n",
    "keep_probability = 0.7"
   ]
  },
  {
   "cell_type": "markdown",
   "metadata": {},
   "source": [
    "### Train on a Single CIFAR-10 Batch\n",
    "Instead of training the neural network on all the CIFAR-10 batches of data, let's use a single batch. This should save time while you iterate on the model to get a better accuracy.  Once the final validation accuracy is 50% or greater, run the model on all the data in the next section."
   ]
  },
  {
   "cell_type": "code",
   "execution_count": 53,
   "metadata": {},
   "outputs": [
    {
     "name": "stdout",
     "output_type": "stream",
     "text": [
      "Checking the Training on a Single Batch...\n",
      "Epoch  1, CIFAR-10 Batch 1:  Loss:  2.20396\n",
      "Validation Accuracy:  0.2094\n",
      "Epoch  2, CIFAR-10 Batch 1:  Loss:  1.94102\n",
      "Validation Accuracy:  0.3124\n",
      "Epoch  3, CIFAR-10 Batch 1:  Loss:  1.77078\n",
      "Validation Accuracy:  0.3866\n",
      "Epoch  4, CIFAR-10 Batch 1:  Loss:  1.60067\n",
      "Validation Accuracy:  0.4244\n",
      "Epoch  5, CIFAR-10 Batch 1:  Loss:  1.46471\n",
      "Validation Accuracy:  0.4546\n",
      "Epoch  6, CIFAR-10 Batch 1:  Loss:  1.30173\n",
      "Validation Accuracy:  0.4786\n"
     ]
    }
   ],
   "source": [
    "\"\"\"\n",
    "DON'T MODIFY ANYTHING IN THIS CELL\n",
    "\"\"\"\n",
    "print('Checking the Training on a Single Batch...')\n",
    "with tf.Session() as sess:\n",
    "    # Initializing the variables\n",
    "    sess.run(tf.global_variables_initializer())\n",
    "    \n",
    "    # Training cycle\n",
    "    for epoch in range(epochs):\n",
    "        batch_i = 1\n",
    "        for batch_features, batch_labels in helper.load_preprocess_training_batch(batch_i, batch_size):\n",
    "            train_neural_network(sess, optimizer, keep_probability, batch_features, batch_labels)\n",
    "        print('Epoch {:>2}, CIFAR-10 Batch {}:  '.format(epoch + 1, batch_i), end='')\n",
    "        print_stats(sess, batch_features, batch_labels, cost, accuracy)"
   ]
  },
  {
   "cell_type": "markdown",
   "metadata": {},
   "source": [
    "### Fully Train the Model\n",
    "Now that you got a good accuracy with a single CIFAR-10 batch, try it with all five batches."
   ]
  },
  {
   "cell_type": "code",
   "execution_count": 55,
   "metadata": {},
   "outputs": [
    {
     "name": "stdout",
     "output_type": "stream",
     "text": [
      "Training...\n",
      "Epoch  1, CIFAR-10 Batch 1:  Loss:  2.20499\n",
      "Validation Accuracy:  0.2298\n",
      "Epoch  1, CIFAR-10 Batch 2:  Loss:  1.93438\n",
      "Validation Accuracy:  0.2878\n",
      "Epoch  1, CIFAR-10 Batch 3:  Loss:  1.65909\n",
      "Validation Accuracy:  0.3616\n",
      "Epoch  1, CIFAR-10 Batch 4:  Loss:  1.52544\n",
      "Validation Accuracy:  0.4216\n",
      "Epoch  1, CIFAR-10 Batch 5:  Loss:  1.52897\n",
      "Validation Accuracy:  0.4488\n",
      "Epoch  2, CIFAR-10 Batch 1:  Loss:  1.50872\n",
      "Validation Accuracy:  0.4712\n",
      "Epoch  2, CIFAR-10 Batch 2:  Loss:  1.36595\n",
      "Validation Accuracy:  0.499\n",
      "Epoch  2, CIFAR-10 Batch 3:  Loss:  1.20628\n",
      "Validation Accuracy:  0.5032\n",
      "Epoch  2, CIFAR-10 Batch 4:  Loss:  1.16491\n",
      "Validation Accuracy:  0.5404\n",
      "Epoch  2, CIFAR-10 Batch 5:  Loss:  1.18859\n",
      "Validation Accuracy:  0.5372\n",
      "Epoch  3, CIFAR-10 Batch 1:  Loss:  1.21342\n",
      "Validation Accuracy:  0.5498\n",
      "Epoch  3, CIFAR-10 Batch 2:  Loss:  1.04834\n",
      "Validation Accuracy:  0.552\n",
      "Epoch  3, CIFAR-10 Batch 3:  Loss:  1.00088\n",
      "Validation Accuracy:  0.578\n",
      "Epoch  3, CIFAR-10 Batch 4:  Loss:  0.970182\n",
      "Validation Accuracy:  0.598\n",
      "Epoch  3, CIFAR-10 Batch 5:  Loss:  0.905545\n",
      "Validation Accuracy:  0.6136\n",
      "Epoch  4, CIFAR-10 Batch 1:  Loss:  0.973025\n",
      "Validation Accuracy:  0.61\n",
      "Epoch  4, CIFAR-10 Batch 2:  Loss:  0.844703\n",
      "Validation Accuracy:  0.5864\n",
      "Epoch  4, CIFAR-10 Batch 3:  Loss:  0.847514\n",
      "Validation Accuracy:  0.6064\n",
      "Epoch  4, CIFAR-10 Batch 4:  Loss:  0.761676\n",
      "Validation Accuracy:  0.6274\n",
      "Epoch  4, CIFAR-10 Batch 5:  Loss:  0.715231\n",
      "Validation Accuracy:  0.6358\n",
      "Epoch  5, CIFAR-10 Batch 1:  Loss:  0.832605\n",
      "Validation Accuracy:  0.6296\n",
      "Epoch  5, CIFAR-10 Batch 2:  Loss:  0.701382\n",
      "Validation Accuracy:  0.6516\n",
      "Epoch  5, CIFAR-10 Batch 3:  Loss:  0.680464\n",
      "Validation Accuracy:  0.6436\n",
      "Epoch  5, CIFAR-10 Batch 4:  Loss:  0.65749\n",
      "Validation Accuracy:  0.6448\n",
      "Epoch  5, CIFAR-10 Batch 5:  Loss:  0.58346\n",
      "Validation Accuracy:  0.6394\n",
      "Epoch  6, CIFAR-10 Batch 1:  Loss:  0.706894\n",
      "Validation Accuracy:  0.6286\n",
      "Epoch  6, CIFAR-10 Batch 2:  Loss:  0.606792\n",
      "Validation Accuracy:  0.65\n",
      "Epoch  6, CIFAR-10 Batch 3:  Loss:  0.575382\n",
      "Validation Accuracy:  0.646\n",
      "Epoch  6, CIFAR-10 Batch 4:  Loss:  0.534571\n",
      "Validation Accuracy:  0.6616\n",
      "Epoch  6, CIFAR-10 Batch 5:  Loss:  0.447622\n",
      "Validation Accuracy:  0.665\n",
      "Epoch  7, CIFAR-10 Batch 1:  Loss:  0.623814\n",
      "Validation Accuracy:  0.639\n",
      "Epoch  7, CIFAR-10 Batch 2:  Loss:  0.518309\n",
      "Validation Accuracy:  0.664\n",
      "Epoch  7, CIFAR-10 Batch 3:  Loss:  0.481645\n",
      "Validation Accuracy:  0.6362\n",
      "Epoch  7, CIFAR-10 Batch 4:  Loss:  0.48571\n",
      "Validation Accuracy:  0.649\n",
      "Epoch  7, CIFAR-10 Batch 5:  Loss:  0.389163\n",
      "Validation Accuracy:  0.6664\n",
      "Epoch  8, CIFAR-10 Batch 1:  Loss:  0.551118\n",
      "Validation Accuracy:  0.6526\n",
      "Epoch  8, CIFAR-10 Batch 2:  Loss:  0.491139\n",
      "Validation Accuracy:  0.6468\n",
      "Epoch  8, CIFAR-10 Batch 3:  Loss:  0.360162\n",
      "Validation Accuracy:  0.6652\n",
      "Epoch  8, CIFAR-10 Batch 4:  Loss:  0.390733\n",
      "Validation Accuracy:  0.6786\n",
      "Epoch  8, CIFAR-10 Batch 5:  Loss:  0.330962\n",
      "Validation Accuracy:  0.6608\n",
      "Epoch  9, CIFAR-10 Batch 1:  Loss:  0.513376\n",
      "Validation Accuracy:  0.659\n",
      "Epoch  9, CIFAR-10 Batch 2:  Loss:  0.37552\n",
      "Validation Accuracy:  0.6632\n",
      "Epoch  9, CIFAR-10 Batch 3:  Loss:  0.344508\n",
      "Validation Accuracy:  0.6652\n",
      "Epoch  9, CIFAR-10 Batch 4:  Loss:  0.304807\n",
      "Validation Accuracy:  0.6784\n",
      "Epoch  9, CIFAR-10 Batch 5:  Loss:  0.296304\n",
      "Validation Accuracy:  0.658\n",
      "Epoch 10, CIFAR-10 Batch 1:  Loss:  0.445091\n",
      "Validation Accuracy:  0.6572\n",
      "Epoch 10, CIFAR-10 Batch 2:  Loss:  0.315554\n",
      "Validation Accuracy:  0.6586\n",
      "Epoch 10, CIFAR-10 Batch 3:  Loss:  0.310749\n",
      "Validation Accuracy:  0.6596\n",
      "Epoch 10, CIFAR-10 Batch 4:  Loss:  0.231365\n",
      "Validation Accuracy:  0.6876\n",
      "Epoch 10, CIFAR-10 Batch 5:  Loss:  0.218093\n",
      "Validation Accuracy:  0.6624\n",
      "Epoch 11, CIFAR-10 Batch 1:  Loss:  0.351946\n",
      "Validation Accuracy:  0.673\n",
      "Epoch 11, CIFAR-10 Batch 2:  Loss:  0.292899\n",
      "Validation Accuracy:  0.6278\n",
      "Epoch 11, CIFAR-10 Batch 3:  Loss:  0.292444\n",
      "Validation Accuracy:  0.6566\n",
      "Epoch 11, CIFAR-10 Batch 4:  Loss:  0.254782\n",
      "Validation Accuracy:  0.6804\n",
      "Epoch 11, CIFAR-10 Batch 5:  Loss:  0.175535\n",
      "Validation Accuracy:  0.6686\n",
      "Epoch 12, CIFAR-10 Batch 1:  Loss:  0.292779\n",
      "Validation Accuracy:  0.6696\n",
      "Epoch 12, CIFAR-10 Batch 2:  Loss:  0.270818\n",
      "Validation Accuracy:  0.6518\n",
      "Epoch 12, CIFAR-10 Batch 3:  Loss:  0.287266\n",
      "Validation Accuracy:  0.6406\n",
      "Epoch 12, CIFAR-10 Batch 4:  Loss:  0.202496\n",
      "Validation Accuracy:  0.6776\n",
      "Epoch 12, CIFAR-10 Batch 5:  Loss:  0.147099\n",
      "Validation Accuracy:  0.6624\n",
      "Epoch 13, CIFAR-10 Batch 1:  Loss:  0.292092\n",
      "Validation Accuracy:  0.6414\n",
      "Epoch 13, CIFAR-10 Batch 2:  Loss:  0.306687\n",
      "Validation Accuracy:  0.6566\n",
      "Epoch 13, CIFAR-10 Batch 3:  Loss:  0.153752\n",
      "Validation Accuracy:  0.6844\n",
      "Epoch 13, CIFAR-10 Batch 4:  Loss:  0.148232\n",
      "Validation Accuracy:  0.6932\n",
      "Epoch 13, CIFAR-10 Batch 5:  Loss:  0.114008\n",
      "Validation Accuracy:  0.6764\n",
      "Epoch 14, CIFAR-10 Batch 1:  Loss:  0.209392\n",
      "Validation Accuracy:  0.6662\n",
      "Epoch 14, CIFAR-10 Batch 2:  Loss:  0.246613\n",
      "Validation Accuracy:  0.6528\n",
      "Epoch 14, CIFAR-10 Batch 3:  Loss:  0.137269\n",
      "Validation Accuracy:  0.6676\n",
      "Epoch 14, CIFAR-10 Batch 4:  Loss:  0.157084\n",
      "Validation Accuracy:  0.6714\n",
      "Epoch 14, CIFAR-10 Batch 5:  Loss:  0.119505\n",
      "Validation Accuracy:  0.6698\n",
      "Epoch 15, CIFAR-10 Batch 1:  Loss:  0.152798\n",
      "Validation Accuracy:  0.6874\n",
      "Epoch 15, CIFAR-10 Batch 2:  Loss:  0.156237\n",
      "Validation Accuracy:  0.679\n",
      "Epoch 15, CIFAR-10 Batch 3:  Loss:  0.109339\n",
      "Validation Accuracy:  0.6808\n",
      "Epoch 15, CIFAR-10 Batch 4:  Loss:  0.178349\n",
      "Validation Accuracy:  0.6664\n",
      "Epoch 15, CIFAR-10 Batch 5:  Loss:  0.0699974\n",
      "Validation Accuracy:  0.6874\n",
      "Epoch 16, CIFAR-10 Batch 1:  Loss:  0.173513\n",
      "Validation Accuracy:  0.6718\n",
      "Epoch 16, CIFAR-10 Batch 2:  Loss:  0.155225\n",
      "Validation Accuracy:  0.6612\n",
      "Epoch 16, CIFAR-10 Batch 3:  Loss:  0.110135\n",
      "Validation Accuracy:  0.6634\n",
      "Epoch 16, CIFAR-10 Batch 4:  Loss:  0.171571\n",
      "Validation Accuracy:  0.6666\n",
      "Epoch 16, CIFAR-10 Batch 5:  Loss:  0.0991846\n",
      "Validation Accuracy:  0.6898\n",
      "Epoch 17, CIFAR-10 Batch 1:  Loss:  0.0864192\n",
      "Validation Accuracy:  0.676\n",
      "Epoch 17, CIFAR-10 Batch 2:  Loss:  0.117911\n",
      "Validation Accuracy:  0.6658\n",
      "Epoch 17, CIFAR-10 Batch 3:  Loss:  0.117272\n",
      "Validation Accuracy:  0.6502\n",
      "Epoch 17, CIFAR-10 Batch 4:  Loss:  0.120936\n",
      "Validation Accuracy:  0.672\n",
      "Epoch 17, CIFAR-10 Batch 5:  Loss:  0.0695406\n",
      "Validation Accuracy:  0.6928\n",
      "Epoch 18, CIFAR-10 Batch 1:  Loss:  0.102015\n",
      "Validation Accuracy:  0.6736\n",
      "Epoch 18, CIFAR-10 Batch 2:  Loss:  0.0991586\n",
      "Validation Accuracy:  0.673\n",
      "Epoch 18, CIFAR-10 Batch 3:  Loss:  0.0668261\n",
      "Validation Accuracy:  0.6836\n",
      "Epoch 18, CIFAR-10 Batch 4:  Loss:  0.108688\n",
      "Validation Accuracy:  0.6566\n",
      "Epoch 18, CIFAR-10 Batch 5:  Loss:  0.141167\n",
      "Validation Accuracy:  0.6528\n",
      "Epoch 19, CIFAR-10 Batch 1:  Loss:  0.101101\n",
      "Validation Accuracy:  0.6456\n",
      "Epoch 19, CIFAR-10 Batch 2:  Loss:  0.0826242\n",
      "Validation Accuracy:  0.6646\n",
      "Epoch 19, CIFAR-10 Batch 3:  Loss:  0.059846\n",
      "Validation Accuracy:  0.676\n",
      "Epoch 19, CIFAR-10 Batch 4:  Loss:  0.086466\n",
      "Validation Accuracy:  0.6656\n",
      "Epoch 19, CIFAR-10 Batch 5:  Loss:  0.070258\n",
      "Validation Accuracy:  0.6662\n",
      "Epoch 20, CIFAR-10 Batch 1:  Loss:  0.0918639\n",
      "Validation Accuracy:  0.6798\n",
      "Epoch 20, CIFAR-10 Batch 2:  Loss:  0.0900975\n",
      "Validation Accuracy:  0.671\n",
      "Epoch 20, CIFAR-10 Batch 3:  Loss:  0.0708429\n",
      "Validation Accuracy:  0.6604\n",
      "Epoch 20, CIFAR-10 Batch 4:  Loss:  0.0810024\n",
      "Validation Accuracy:  0.6762\n",
      "Epoch 20, CIFAR-10 Batch 5:  Loss:  0.0331815\n",
      "Validation Accuracy:  0.6796\n"
     ]
    }
   ],
   "source": [
    "\"\"\"\n",
    "DON'T MODIFY ANYTHING IN THIS CELL\n",
    "\"\"\"\n",
    "save_model_path = './image_classification'\n",
    "\n",
    "print('Training...')\n",
    "with tf.Session() as sess:\n",
    "    # Initializing the variables\n",
    "    sess.run(tf.global_variables_initializer())\n",
    "    \n",
    "    # Training cycle\n",
    "    for epoch in range(epochs):\n",
    "        # Loop over all batches\n",
    "        n_batches = 5\n",
    "        for batch_i in range(1, n_batches + 1):\n",
    "            for batch_features, batch_labels in helper.load_preprocess_training_batch(batch_i, batch_size):\n",
    "                train_neural_network(sess, optimizer, keep_probability, batch_features, batch_labels)\n",
    "            print('Epoch {:>2}, CIFAR-10 Batch {}:  '.format(epoch + 1, batch_i), end='')\n",
    "            print_stats(sess, batch_features, batch_labels, cost, accuracy)\n",
    "            \n",
    "    # Save Model\n",
    "    saver = tf.train.Saver()\n",
    "    save_path = saver.save(sess, save_model_path)"
   ]
  },
  {
   "cell_type": "markdown",
   "metadata": {},
   "source": [
    "# Checkpoint\n",
    "The model has been saved to disk.\n",
    "## Test Model\n",
    "Test your model against the test dataset.  This will be your final accuracy. You should have an accuracy greater than 50%. If you don't, keep tweaking the model architecture and parameters."
   ]
  },
  {
   "cell_type": "code",
   "execution_count": 56,
   "metadata": {},
   "outputs": [
    {
     "name": "stdout",
     "output_type": "stream",
     "text": [
      "INFO:tensorflow:Restoring parameters from ./image_classification\n",
      "Testing Accuracy: 0.6701976090669632\n",
      "\n"
     ]
    },
    {
     "data": {
      "image/png": "[encoded data removed]",
      "text/plain": [
       "<matplotlib.figure.Figure at 0x122b850f0>"
      ]
     },
     "metadata": {
      "image/png": {
       "height": 319,
       "width": 355
      }
     },
     "output_type": "display_data"
    }
   ],
   "source": [
    "\"\"\"\n",
    "DON'T MODIFY ANYTHING IN THIS CELL\n",
    "\"\"\"\n",
    "%matplotlib inline\n",
    "%config InlineBackend.figure_format = 'retina'\n",
    "\n",
    "import tensorflow as tf\n",
    "import pickle\n",
    "import helper\n",
    "import random\n",
    "\n",
    "# Set batch size if not already set\n",
    "try:\n",
    "    if batch_size:\n",
    "        pass\n",
    "except NameError:\n",
    "    batch_size = 64\n",
    "\n",
    "save_model_path = './image_classification'\n",
    "n_samples = 4\n",
    "top_n_predictions = 3\n",
    "\n",
    "def test_model():\n",
    "    \"\"\"\n",
    "    Test the saved model against the test dataset\n",
    "    \"\"\"\n",
    "\n",
    "    test_features, test_labels = pickle.load(open('preprocess_training.p', mode='rb'))\n",
    "    loaded_graph = tf.Graph()\n",
    "\n",
    "    with tf.Session(graph=loaded_graph) as sess:\n",
    "        # Load model\n",
    "        loader = tf.train.import_meta_graph(save_model_path + '.meta')\n",
    "        loader.restore(sess, save_model_path)\n",
    "\n",
    "        # Get Tensors from loaded model\n",
    "        loaded_x = loaded_graph.get_tensor_by_name('x:0')\n",
    "        loaded_y = loaded_graph.get_tensor_by_name('y:0')\n",
    "        loaded_keep_prob = loaded_graph.get_tensor_by_name('keep_prob:0')\n",
    "        loaded_logits = loaded_graph.get_tensor_by_name('logits:0')\n",
    "        loaded_acc = loaded_graph.get_tensor_by_name('accuracy:0')\n",
    "        \n",
    "        # Get accuracy in batches for memory limitations\n",
    "        test_batch_acc_total = 0\n",
    "        test_batch_count = 0\n",
    "        \n",
    "        for train_feature_batch, train_label_batch in helper.batch_features_labels(test_features, test_labels, batch_size):\n",
    "            test_batch_acc_total += sess.run(\n",
    "                loaded_acc,\n",
    "                feed_dict={loaded_x: train_feature_batch, loaded_y: train_label_batch, loaded_keep_prob: 1.0})\n",
    "            test_batch_count += 1\n",
    "\n",
    "        print('Testing Accuracy: {}\\n'.format(test_batch_acc_total/test_batch_count))\n",
    "\n",
    "        # Print Random Samples\n",
    "        random_test_features, random_test_labels = tuple(zip(*random.sample(list(zip(test_features, test_labels)), n_samples)))\n",
    "        random_test_predictions = sess.run(\n",
    "            tf.nn.top_k(tf.nn.softmax(loaded_logits), top_n_predictions),\n",
    "            feed_dict={loaded_x: random_test_features, loaded_y: random_test_labels, loaded_keep_prob: 1.0})\n",
    "        helper.display_image_predictions(random_test_features, random_test_labels, random_test_predictions)\n",
    "\n",
    "\n",
    "test_model()"
   ]
  },
  {
   "cell_type": "markdown",
   "metadata": {},
   "source": [
    "## Why 50-80% Accuracy?\n",
    "You might be wondering why you can't get an accuracy any higher. First things first, 50% isn't bad for a simple CNN.  Pure guessing would get you 10% accuracy. That's because there are many more techniques that can be applied to your model and we recemmond that once you are done with this project, you explore!\n",
    "\n",
    "## Submitting This Project\n",
    "When submitting this project, make sure to run all the cells before saving the notebook.  Save the notebook file as \"image_classification.ipynb\" and save it as a HTML file under \"File\" -> \"Download as\".  Include the \"helper.py\" and \"problem_unittests.py\" files in your submission."
   ]
  }
 ],
 "metadata": {
  "kernelspec": {
   "display_name": "Python 3",
   "language": "python",
   "name": "python3"
  },
  "language_info": {
   "codemirror_mode": {
    "name": "ipython",
    "version": 3
   },
   "file_extension": ".py",
   "mimetype": "text/x-python",
   "name": "python",
   "nbconvert_exporter": "python",
   "pygments_lexer": "ipython3",
   "version": "3.5.3"
  }
 },
 "nbformat": 4,
 "nbformat_minor": 1
}
